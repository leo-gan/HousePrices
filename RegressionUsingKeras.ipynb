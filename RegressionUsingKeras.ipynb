{
 "cells": [
  {
   "cell_type": "markdown",
   "metadata": {
    "_uuid": "83271479f4f959b2d903a8fba848dc7fb19d9d9e",
    "_cell_guid": "9180984b-5200-40be-9e8a-c4a2c2d338dc"
   },
   "source": [
    "Todo\n1. 5 Dense layers with a BatchNormalization each, followed by Dropout(0.2)."
   ]
  },
  {
   "cell_type": "code",
   "execution_count": null,
   "metadata": {
    "_uuid": "f077f279ec7cbcf71df65a7cd6bfe3415b75a377",
    "_cell_guid": "510fd1e0-253c-42d2-995a-eb5c1b0cafd1",
    "trusted": false,
    "collapsed": true
   },
   "outputs": [],
   "source": [
    "# This Python 3 environment comes with many helpful analytics libraries installed\n",
    "# It is defined by the kaggle/python docker image: https://github.com/kaggle/docker-python\n",
    "# For example, here's several helpful packages to load in \n",
    "\n",
    "import numpy as np # linear algebra\n",
    "import pandas as pd # data processing, CSV file I/O (e.g. pd.read_csv)\n",
    "\n",
    "from keras.layers import Dense\n",
    "from keras.models import Sequential\n",
    "from keras.regularizers import l1\n",
    "from keras.layers.normalization import BatchNormalization\n",
    "from keras import backend as K\n",
    "\n",
    "from sklearn.preprocessing import StandardScaler\n",
    "from sklearn.model_selection import train_test_split\n",
    "from scipy.stats import skew\n",
    "from scipy.stats.stats import pearsonr\n",
    "\n",
    "import matplotlib.pyplot as plt\n",
    "%matplotlib inline\n",
    "\n",
    "# Input data files are available in the \"../input/\" directory.\n",
    "# For example, running this (by clicking run or pressing Shift+Enter) will list the files in the input directory\n",
    "\n",
    "from subprocess import check_output\n",
    "print(check_output([\"ls\", \"../input\"]).decode(\"utf8\"))\n",
    "\n",
    "# Any results you write to the current directory are saved as output."
   ]
  },
  {
   "cell_type": "code",
   "execution_count": null,
   "metadata": {
    "_cell_guid": "3231876f-2310-4964-8816-007efa258ffc",
    "_uuid": "0dee4ccadd096f8ad1741aee6e428b5b9a3115ef",
    "collapsed": true,
    "trusted": false
   },
   "outputs": [],
   "source": [
    "train = pd.read_csv(\"../input/train.csv\")\n",
    "test = pd.read_csv(\"../input/test.csv\")"
   ]
  },
  {
   "cell_type": "code",
   "execution_count": null,
   "metadata": {
    "_cell_guid": "4e32f784-a26c-46c8-b15a-0034b5345ff1",
    "_uuid": "bd5cfe6285ffa56eabc32cbd23c6cfac2a668808",
    "collapsed": true,
    "trusted": false
   },
   "outputs": [],
   "source": [
    "all_data = pd.concat((train.loc[:,'MSSubClass':'SaleCondition'],\n",
    "                      test.loc[:,'MSSubClass':'SaleCondition']))"
   ]
  },
  {
   "cell_type": "code",
   "execution_count": null,
   "metadata": {
    "_uuid": "0d4ba6f48d9a35d020031d551b7229977c958b1e",
    "_cell_guid": "f6a4ca11-e6d1-4bc1-b771-da0f0cb8377e",
    "trusted": false,
    "collapsed": true
   },
   "outputs": [],
   "source": [
    "#log transform the target:\n",
    "train[\"SalePrice\"] = np.log1p(train[\"SalePrice\"])\n",
    "\n",
    "#log transform skewed numeric features:\n",
    "numeric_feats = all_data.dtypes[all_data.dtypes != \"object\"].index\n",
    "\n",
    "skewed_feats = train[numeric_feats].apply(lambda x: skew(x.dropna())) #compute skewness\n",
    "skewed_feats = skewed_feats[skewed_feats > 0.75]\n",
    "skewed_feats = skewed_feats.index\n",
    "\n",
    "all_data[skewed_feats] = np.log1p(all_data[skewed_feats])"
   ]
  },
  {
   "cell_type": "code",
   "execution_count": null,
   "metadata": {
    "_cell_guid": "019e6e8c-fe10-4c69-87f0-28cf5e605ea9",
    "_uuid": "974f7a9e09589d8f917b4a1c1e6402c237d7cae6",
    "collapsed": true,
    "trusted": false
   },
   "outputs": [],
   "source": [
    "all_data = pd.get_dummies(all_data)"
   ]
  },
  {
   "cell_type": "code",
   "execution_count": null,
   "metadata": {
    "_cell_guid": "38ff6ba4-49c6-4290-b1da-56d0069ec4aa",
    "_uuid": "899975eb1ce9f2cbf4b9d4790adbf1ae11f74317",
    "collapsed": true,
    "trusted": false
   },
   "outputs": [],
   "source": [
    "#filling NA's with the mean of the column:\n",
    "all_data = all_data.fillna(all_data.mean())"
   ]
  },
  {
   "cell_type": "code",
   "execution_count": null,
   "metadata": {
    "_cell_guid": "57bfee9d-a81f-4670-abda-65504a5febb1",
    "_uuid": "557b1a6a02a3df640a860ad99fd694c3ef69f30f",
    "collapsed": true,
    "trusted": false
   },
   "outputs": [],
   "source": [
    "#creating matrices for sklearn:\n",
    "X_train = all_data[:train.shape[0]]\n",
    "X_test = all_data[train.shape[0]:]\n",
    "y = train.SalePrice"
   ]
  },
  {
   "cell_type": "code",
   "execution_count": null,
   "metadata": {
    "_uuid": "f8aaa1b4904b4721ca892c88737f670290311fd7",
    "_cell_guid": "478fcf88-8678-49b1-b4b6-78b85991910e",
    "trusted": false,
    "collapsed": true
   },
   "outputs": [],
   "source": [
    "X_train = StandardScaler().fit_transform(X_train)\n",
    "X_tr, X_val, y_tr, y_val = train_test_split(X_train, y, random_state = 3)\n",
    "X_tr.shape"
   ]
  },
  {
   "cell_type": "code",
   "execution_count": null,
   "metadata": {
    "scrolled": true,
    "_uuid": "2d0a7b89c16a8e005f2b2fb4596cb4d929e9b823",
    "_cell_guid": "95bd00e6-2e41-4702-8371-d3819227dffa",
    "trusted": false,
    "collapsed": true
   },
   "outputs": [],
   "source": [
    "X_tr"
   ]
  },
  {
   "cell_type": "code",
   "execution_count": null,
   "metadata": {
    "_cell_guid": "03451fef-f4e5-4a5d-acef-954b2c5043f0",
    "_uuid": "26d2c6dbff59ae09ad7b9b6b34237efe2ad6a89e",
    "collapsed": true,
    "trusted": false
   },
   "outputs": [],
   "source": [
    "X_val"
   ]
  },
  {
   "cell_type": "markdown",
   "metadata": {
    "_uuid": "55e44ba9a70205ccfa7b2e65785c240787ca76a2",
    "_cell_guid": "16e88805-8fcc-4c5c-9905-c43c9d3e8f12"
   },
   "source": [
    "## Model"
   ]
  },
  {
   "cell_type": "code",
   "execution_count": null,
   "metadata": {
    "_uuid": "fe7d8122d5f6d03c7c0ee918a3a536cc0c81f682",
    "_cell_guid": "5eb7d830-feab-4a4a-9bc6-bfc906c3826f",
    "trusted": false,
    "collapsed": true
   },
   "outputs": [],
   "source": [
    "#Model1\n",
    "model = Sequential()\n",
    "#model.add(Dense(256, activation=\"relu\", input_dim = X_train.shape[1]))\n",
    "model.add(Dense(1, input_dim = X_train.shape[1], W_regularizer=l1(0.001)))\n",
    "\n",
    "model.compile(loss = \"mse\", optimizer = \"adam\")"
   ]
  },
  {
   "cell_type": "code",
   "execution_count": null,
   "metadata": {
    "_uuid": "e9c07a4394033ff9cf9b6a5d5b17291f231c50db",
    "_cell_guid": "326772b8-b4a0-4379-9408-26175e65aee9",
    "trusted": false,
    "collapsed": true
   },
   "outputs": [],
   "source": [
    "#Model2\n",
    "model = Sequential()\n",
    "BatchNormalization()\n",
    "model.add(Dense(1028,input_dim=288,activation='relu'))\n",
    "BatchNormalization()\n",
    "model.add(Dense(1028,input_dim=288,activation='relu'))\n",
    "BatchNormalization()\n",
    "#Dropout(0.2)\n",
    "model.add(Dense(100,input_dim=288,activation='relu'))\n",
    "BatchNormalization()\n",
    "#Dropout(0.2)\n",
    "model.add(Dense(50))\n",
    "BatchNormalization()\n",
    "model.add(Dense(1))\n",
    "model.compile(optimizer='adam',loss='mse',metrics=['accuracy'])"
   ]
  },
  {
   "cell_type": "code",
   "execution_count": null,
   "metadata": {
    "_uuid": "ebd7dba83350248adaa645ffc065ad295e015527",
    "_cell_guid": "3400e2d3-adeb-41d8-85ca-b68a55690167",
    "trusted": false,
    "collapsed": true
   },
   "outputs": [],
   "source": [
    "model.summary()"
   ]
  },
  {
   "cell_type": "code",
   "execution_count": null,
   "metadata": {
    "_uuid": "685830e1405d1419d6e7bda03b540c5c8619b38f",
    "_cell_guid": "19c696a7-128f-4a64-a620-13e556a4f6e9",
    "trusted": false,
    "collapsed": true
   },
   "outputs": [],
   "source": [
    "hist = model.fit(X_tr, y_tr, validation_data = (X_val, y_val))"
   ]
  },
  {
   "cell_type": "code",
   "execution_count": null,
   "metadata": {
    "scrolled": true,
    "_uuid": "d220343488e12ecfa354f271ea4c7a3a2f5aa84f",
    "_cell_guid": "04f0d3cb-d286-4534-8a9f-cab8fb5f8aa8",
    "trusted": false,
    "collapsed": true
   },
   "outputs": [],
   "source": [
    "scores = np.sqrt(model.evaluate(X_val,y_val,verbose=0))\n",
    "scores"
   ]
  },
  {
   "cell_type": "code",
   "execution_count": null,
   "metadata": {
    "scrolled": true,
    "_uuid": "64c73245d80038ba68714a3046481847dae5e371",
    "_cell_guid": "e3a2c2ae-efb0-4569-88c0-3d46b4cb36d7",
    "trusted": false,
    "collapsed": true
   },
   "outputs": [],
   "source": [
    "pd.Series(model.predict(X_val)[:,0]).hist()"
   ]
  },
  {
   "cell_type": "markdown",
   "metadata": {
    "_uuid": "f2c2d9159557332b795d831c6d3a10203fa75d18",
    "_cell_guid": "da73580a-3381-404d-ad19-aa39b3e9d727"
   },
   "source": [
    "Reference\n1. https://www.kaggle.com/vishnus/regression-using-keras\n1. https://www.kaggle.com/apapiu/regularized-linear-models"
   ]
  },
  {
   "cell_type": "code",
   "execution_count": null,
   "metadata": {
    "_cell_guid": "09cad7b3-e555-486f-bb0e-1e3bf85f7ef1",
    "_uuid": "a361006c54323db5a2d2aced3cbdab61c3ddabd7",
    "collapsed": true,
    "trusted": false
   },
   "outputs": [],
   "source": [
    ""
   ]
  }
 ],
 "metadata": {
  "kernelspec": {
   "display_name": "Python 3",
   "language": "python",
   "name": "python3"
  },
  "language_info": {
   "file_extension": ".py",
   "nbconvert_exporter": "python",
   "pygments_lexer": "ipython3",
   "mimetype": "text/x-python",
   "codemirror_mode": {
    "name": "ipython",
    "version": 3
   },
   "name": "python",
   "version": "3.6.3"
  }
 },
 "nbformat": 4,
 "nbformat_minor": 1
}
